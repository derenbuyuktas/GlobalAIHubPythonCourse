{
 "cells": [
  {
   "cell_type": "code",
   "execution_count": 248,
   "metadata": {},
   "outputs": [
    {
     "name": "stdout",
     "output_type": "stream",
     "text": [
      "English\n",
      "Turkish\n",
      "Spanish\n",
      "German\n",
      "Italien\n"
     ]
    }
   ],
   "source": [
    "class Person:\n",
    "    def __init__(self, name, lname, age, language):\n",
    "        self.first_name = name\n",
    "        self.last_name = lname\n",
    "        self.person_age = age\n",
    "        self.language = language\n",
    "        \n",
    "     \n",
    "    \n",
    "    def print_name(self):\n",
    "        print(self.first_name + \" \" + self.last_name)\n",
    "    def print_age(self):\n",
    "        print(\"Age:\", str(self.person_age))\n",
    "    def print_language(self):\n",
    "        print(self.language)\n",
    "        \n",
    "            \n",
    "class Employees(Person):\n",
    "    pass\n",
    "    \n",
    "\n",
    "employee1 = Employees(\"Deren\", \"Büyüktaş\", \"20\", [\"English\", \"Turkish\"])\n",
    "\n",
    "\n",
    "employee2 = Employees(\"Deniz\", \"Yılmaz\", \"35\", [\"Turkish\", \"Spanish\"])\n",
    "\n",
    "\n",
    "employee3 = Employees(\"Sevgi\", \"Doğan\", \"27\", [\"Turkish\", \"German\"])\n",
    "\n",
    "\n",
    "\n",
    "class Manager(Person):\n",
    "    pass\n",
    "    \n",
    "    \n",
    "manager = Manager(\"Defne\", \"Yıldız\", \"45\", (\"Turkish\", \"English\"))\n",
    "\n",
    "manager2 = Manager(\"Barış\", \"Acar\", \"38\", (\"Turkish\", \"Italien\"))\n",
    "\n",
    "\n",
    "language_list = []\n",
    "unique_languages = []\n",
    "\n",
    "for language in employee1.language:\n",
    "    language_list.append(language)\n",
    "for language in employee2.language:\n",
    "    language_list.append(language)\n",
    "for language in employee3.language:\n",
    "    language_list.append(language)\n",
    "for language in manager.language:\n",
    "    language_list.append(language)\n",
    "for language in manager2.language:\n",
    "    language_list.append(language)\n",
    "\n",
    "\n",
    "for x in language_list: \n",
    "    \n",
    "    if x not in unique_languages: \n",
    "        unique_languages.append(x) \n",
    "\n",
    "for x in unique_languages: \n",
    "    print(x) \n",
    "\n",
    "\n"
   ]
  },
  {
   "cell_type": "code",
   "execution_count": null,
   "metadata": {},
   "outputs": [],
   "source": []
  },
  {
   "cell_type": "code",
   "execution_count": null,
   "metadata": {},
   "outputs": [],
   "source": []
  },
  {
   "cell_type": "code",
   "execution_count": null,
   "metadata": {},
   "outputs": [],
   "source": []
  }
 ],
 "metadata": {
  "kernelspec": {
   "display_name": "Python 3",
   "language": "python",
   "name": "python3"
  },
  "language_info": {
   "codemirror_mode": {
    "name": "ipython",
    "version": 3
   },
   "file_extension": ".py",
   "mimetype": "text/x-python",
   "name": "python",
   "nbconvert_exporter": "python",
   "pygments_lexer": "ipython3",
   "version": "3.8.5"
  }
 },
 "nbformat": 4,
 "nbformat_minor": 4
}
