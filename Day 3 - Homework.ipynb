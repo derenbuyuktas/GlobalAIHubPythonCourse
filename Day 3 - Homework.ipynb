{
 "cells": [
  {
   "cell_type": "code",
   "execution_count": 10,
   "metadata": {},
   "outputs": [
    {
     "name": "stdout",
     "output_type": "stream",
     "text": [
      "Please enter username: Deren\n",
      "Please enter password: abc123\n",
      "Successfuly logged in.\n"
     ]
    }
   ],
   "source": [
    "my_username = \"Deren\"\n",
    "my_password = \"abc123\"\n",
    "\n",
    "username = input(\"Please enter username: \")\n",
    "password = input(\"Please enter password: \")\n",
    "\n",
    "if (username == my_username and password == my_password):\n",
    "    print(\"Successfuly logged in.\")\n",
    "else:\n",
    "    print(\"Wrong username or password.\")\n",
    "\n"
   ]
  },
  {
   "cell_type": "code",
   "execution_count": 5,
   "metadata": {
    "scrolled": true
   },
   "outputs": [
    {
     "name": "stdout",
     "output_type": "stream",
     "text": [
      "Please enter username: Deren\n",
      "Please enter password: abc123\n",
      "Successfuly logged in.\n"
     ]
    }
   ],
   "source": [
    "dictionary = {\"username\": \"Deren\", \"password\": \"abc123\"}\n",
    "\n",
    "username1 = input(\"Please enter username: \")\n",
    "password1 = input(\"Please enter password: \")\n",
    "\n",
    "if (dictionary[\"username\"] == username1 and dictionary[\"password\"] == password1):\n",
    "    \n",
    "    print(\"Successfuly logged in.\")\n",
    "else:\n",
    "    print(\"Wrong username or password.\")\n",
    "    \n"
   ]
  }
 ],
 "metadata": {
  "kernelspec": {
   "display_name": "Python 3",
   "language": "python",
   "name": "python3"
  },
  "language_info": {
   "codemirror_mode": {
    "name": "ipython",
    "version": 3
   },
   "file_extension": ".py",
   "mimetype": "text/x-python",
   "name": "python",
   "nbconvert_exporter": "python",
   "pygments_lexer": "ipython3",
   "version": "3.8.5"
  }
 },
 "nbformat": 4,
 "nbformat_minor": 4
}
