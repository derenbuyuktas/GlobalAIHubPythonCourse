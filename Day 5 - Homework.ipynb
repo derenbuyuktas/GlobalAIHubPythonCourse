{
 "cells": [
  {
   "cell_type": "code",
   "execution_count": 2,
   "metadata": {},
   "outputs": [
    {
     "name": "stdout",
     "output_type": "stream",
     "text": [
      "4\n",
      "Golden Retriever\n",
      "4\n",
      "Scottish\n"
     ]
    }
   ],
   "source": [
    "class Animals:\n",
    "    def __init__(self, leg, species):\n",
    "        \n",
    "        self.leg_number = leg\n",
    "        self.species_name = species\n",
    "        \n",
    "    def print_leg(self):\n",
    "        print(str(self.leg_number))\n",
    "    def print_species(self):\n",
    "        print(self.species_name)\n",
    "\n",
    "        \n",
    "class Dogs(Animals):\n",
    "    pass\n",
    "    \n",
    "dog = Dogs(\"4\", \"Golden Retriever\")\n",
    "    \n",
    "dog.print_leg()\n",
    "dog.print_species()\n",
    "\n",
    "class Cats(Animals):\n",
    "    pass\n",
    "\n",
    "cat = Cats(\"4\", \"Scottish\")\n",
    "    \n",
    "cat.print_leg()\n",
    "cat.print_species()\n",
    "\n"
   ]
  }
 ],
 "metadata": {
  "kernelspec": {
   "display_name": "Python 3",
   "language": "python",
   "name": "python3"
  },
  "language_info": {
   "codemirror_mode": {
    "name": "ipython",
    "version": 3
   },
   "file_extension": ".py",
   "mimetype": "text/x-python",
   "name": "python",
   "nbconvert_exporter": "python",
   "pygments_lexer": "ipython3",
   "version": "3.8.5"
  }
 },
 "nbformat": 4,
 "nbformat_minor": 4
}
